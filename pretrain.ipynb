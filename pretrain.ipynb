{
 "cells": [
  {
   "cell_type": "code",
   "execution_count": 1,
   "metadata": {},
   "outputs": [
    {
     "name": "stderr",
     "output_type": "stream",
     "text": [
      "RDKit WARNING: [02:13:45] Enabling RDKit 2019.09.3 jupyter extensions\n"
     ]
    }
   ],
   "source": [
    "import gentrl\n",
    "import torch\n",
    "import pandas as pd\n",
    "torch.cuda.set_device(0)"
   ]
  },
  {
   "cell_type": "code",
   "execution_count": 2,
   "metadata": {},
   "outputs": [],
   "source": [
    "from moses.metrics import mol_passes_filters, QED, SA, logP\n",
    "from moses.metrics.utils import get_n_rings, get_mol\n",
    "\n",
    "\n",
    "def get_num_rings_6(mol):\n",
    "    r = mol.GetRingInfo()\n",
    "    return len([x for x in r.AtomRings() if len(x) > 6])\n",
    "\n",
    "\n",
    "def penalized_logP(mol_or_smiles, masked=False, default=-5):\n",
    "    mol = get_mol(mol_or_smiles)\n",
    "    if mol is None:\n",
    "        return default\n",
    "    reward = logP(mol) - SA(mol) - get_num_rings_6(mol)\n",
    "    if masked and not mol_passes_filters(mol):\n",
    "        return default\n",
    "    return reward"
   ]
  },
  {
   "cell_type": "code",
   "execution_count": null,
   "metadata": {
    "scrolled": true
   },
   "outputs": [],
   "source": [
    "! wget https://media.githubusercontent.com/media/molecularsets/moses/master/data/dataset_v1.csv"
   ]
  },
  {
   "cell_type": "code",
   "execution_count": 3,
   "metadata": {},
   "outputs": [
    {
     "name": "stdout",
     "output_type": "stream",
     "text": [
      "total 427072\r\n",
      "drwxr-xr-x 1 root root     4096  2월 10 18:28 .\r\n",
      "drwxr-xr-x 1 root root     4096  2월  5 19:06 ..\r\n",
      "drwxr-xr-x 2 root root     4096  2월 10 12:16 .ipynb_checkpoints\r\n",
      "-rw-r--r-- 1 root root     2574  2월  7 20:32 Untitled.ipynb\r\n",
      "-rw-r--r-- 1 root root      885  2월  9 23:18 Untitled1.ipynb\r\n",
      "-rw-r--r-- 1 root root 84482588  2월  7 17:02 dataset_v1.csv\r\n",
      "-rw-r--r-- 1 root root 84482588  2월 10 09:57 dataset_v1.csv.1\r\n",
      "-rw-r--r-- 1 root root 84482588  2월 10 12:16 dataset_v1.csv.2\r\n",
      "-rw-r--r-- 1 root root 84482588  2월 10 18:26 dataset_v1.csv.3\r\n",
      "-rw-r--r-- 1 root root    16292  2월 10 18:28 pretrain-Copy1.ipynb\r\n",
      "-rwxr-xr-x 1 root root     9215  2월 10 18:25 pretrain.ipynb\r\n",
      "-rwxr-xr-x 1 root root   312729  2월 10 18:24 sampling.ipynb\r\n",
      "drwxr-xr-x 2 root root     4096  2월  7 17:03 saved_gentrl\r\n",
      "drwxr-xr-x 2 root root     4096  2월  7 20:00 saved_gentrl_after_rl\r\n",
      "-rw-r--r-- 1 root root 98895256  2월 10 11:16 train_plogp_plogpm.csv\r\n",
      "-rw-r--r-- 1 root root    50919  2월 10 16:51 train_plogp_plogpm_test.csv\r\n",
      "-rwxr-xr-x 1 root root    43273  2월 10 18:26 train_rl.ipynb\r\n"
     ]
    }
   ],
   "source": [
    "! ls -al"
   ]
  },
  {
   "cell_type": "code",
   "execution_count": 13,
   "metadata": {},
   "outputs": [
    {
     "data": {
      "text/html": [
       "<div>\n",
       "<style scoped>\n",
       "    .dataframe tbody tr th:only-of-type {\n",
       "        vertical-align: middle;\n",
       "    }\n",
       "\n",
       "    .dataframe tbody tr th {\n",
       "        vertical-align: top;\n",
       "    }\n",
       "\n",
       "    .dataframe thead th {\n",
       "        text-align: right;\n",
       "    }\n",
       "</style>\n",
       "<table border=\"1\" class=\"dataframe\">\n",
       "  <thead>\n",
       "    <tr style=\"text-align: right;\">\n",
       "      <th></th>\n",
       "      <th>SMILES</th>\n",
       "      <th>SPLIT</th>\n",
       "      <th>plogP</th>\n",
       "    </tr>\n",
       "  </thead>\n",
       "  <tbody>\n",
       "    <tr>\n",
       "      <th>0</th>\n",
       "      <td>CCCS(=O)c1ccc2[nH]c(=NC(=O)OC)[nH]c2c1</td>\n",
       "      <td>train</td>\n",
       "      <td>-2.131918</td>\n",
       "    </tr>\n",
       "    <tr>\n",
       "      <th>1</th>\n",
       "      <td>CC(C)(C)C(=O)C(Oc1ccc(Cl)cc1)n1ccnc1</td>\n",
       "      <td>train</td>\n",
       "      <td>0.792973</td>\n",
       "    </tr>\n",
       "    <tr>\n",
       "      <th>3</th>\n",
       "      <td>Cc1c(Cl)cccc1Nc1ncccc1C(=O)OCC(O)CO</td>\n",
       "      <td>train</td>\n",
       "      <td>-0.366775</td>\n",
       "    </tr>\n",
       "    <tr>\n",
       "      <th>4</th>\n",
       "      <td>Cn1cnc2c1c(=O)n(CC(O)CO)c(=O)n2C</td>\n",
       "      <td>train</td>\n",
       "      <td>-5.202261</td>\n",
       "    </tr>\n",
       "    <tr>\n",
       "      <th>5</th>\n",
       "      <td>CC1Oc2ccc(Cl)cc2N(CC(O)CO)C1=O</td>\n",
       "      <td>train</td>\n",
       "      <td>-2.248650</td>\n",
       "    </tr>\n",
       "  </tbody>\n",
       "</table>\n",
       "</div>"
      ],
      "text/plain": [
       "                                   SMILES  SPLIT     plogP\n",
       "0  CCCS(=O)c1ccc2[nH]c(=NC(=O)OC)[nH]c2c1  train -2.131918\n",
       "1    CC(C)(C)C(=O)C(Oc1ccc(Cl)cc1)n1ccnc1  train  0.792973\n",
       "3     Cc1c(Cl)cccc1Nc1ncccc1C(=O)OCC(O)CO  train -0.366775\n",
       "4        Cn1cnc2c1c(=O)n(CC(O)CO)c(=O)n2C  train -5.202261\n",
       "5          CC1Oc2ccc(Cl)cc2N(CC(O)CO)C1=O  train -2.248650"
      ]
     },
     "execution_count": 13,
     "metadata": {},
     "output_type": "execute_result"
    }
   ],
   "source": [
    "df = pd.read_csv('dataset_v1.csv')\n",
    "tempIndex = len(df)//100\n",
    "df = df[0:tempIndex]\n",
    "df = df[df['SPLIT'] == 'train']\n",
    "df['plogP'] = df['SMILES'].apply(penalized_logP)\n",
    "df.to_csv('train_plogp_plogpm.csv', index=None)\n",
    "df.head()"
   ]
  },
  {
   "cell_type": "code",
   "execution_count": 3,
   "metadata": {},
   "outputs": [],
   "source": [
    "import torch\n",
    "from torch import nn\n",
    "from gentrl.tokenizer import encode, get_vocab_size\n",
    "\n",
    "class CNNEncoder(nn.Module):\n",
    "    def __init__(self, hidden_size=256, latent_size=50):\n",
    "        super(CNNEncoder, self).__init__()\n",
    "\n",
    "        self.embs = nn.Embedding(get_vocab_size(), hidden_size)\n",
    "        self.cnn = nn.Conv1d(50,50,1)\n",
    "\n",
    "        self.final_mlp = nn.Sequential(\n",
    "            nn.Linear(hidden_size, hidden_size), nn.LeakyReLU(),\n",
    "            nn.Linear(hidden_size, 2 * latent_size))\n",
    "\n",
    "    def encode(self, sm_list):\n",
    "\n",
    "        tokens, lens = encode(sm_list)\n",
    "        to_feed = tokens.transpose(1, 0).to(self.embs.weight.device)\n",
    "\n",
    "        outputs = self.cnn(self.embs(to_feed))\n",
    "        outputs = self.cnn(outputs)\n",
    "\n",
    "        outputs = outputs[lens, torch.arange(len(lens))]\n",
    "\n",
    "        return self.final_mlp(outputs)\n"
   ]
  },
  {
   "cell_type": "code",
   "execution_count": 4,
   "metadata": {},
   "outputs": [],
   "source": [
    "enc = CNNEncoder(latent_size=50)\n",
    "dec = gentrl.DilConvDecoder(latent_input_size=50)\n",
    "model = gentrl.GENTRL(enc, dec, 50 * [('c', 20)], [('c', 20)], beta=0.001)\n",
    "model.cuda();"
   ]
  },
  {
   "cell_type": "code",
   "execution_count": 5,
   "metadata": {},
   "outputs": [],
   "source": [
    "md = gentrl.MolecularDataset(sources=[\n",
    "    {'path':'train_plogp_plogpm.csv',\n",
    "     'smiles': 'SMILES',\n",
    "     'prob': 1,\n",
    "     'plogP' : 'plogP',\n",
    "    }], \n",
    "    props=['plogP'])\n",
    "\n",
    "from torch.utils.data import DataLoader\n",
    "train_loader = DataLoader(md, batch_size=50, shuffle=True, num_workers=1, drop_last=True)"
   ]
  },
  {
   "cell_type": "code",
   "execution_count": null,
   "metadata": {},
   "outputs": [],
   "source": [
    "# model.train_as_vaelp(train_loader, lr=1e-4)"
   ]
  },
  {
   "cell_type": "code",
   "execution_count": 6,
   "metadata": {},
   "outputs": [
    {
     "name": "stdout",
     "output_type": "stream",
     "text": [
      "Epoch 0 :\n",
      "!!!!!!!!!!!!!!!!!!!!!!!!!!!!!!!!!!!!!!!!!!!!!!!!!!!!!!!!!!!!!!!!!!!!!!!!!!!!!!!!!!!!!!!!!!!!!!!!!!!!!!!!!loss: 2.847;rec: -2.737;kl: -61.7;log_p_y_by_z: -1.718;log_p_z_by_y: -78.55;\n",
      "!!!!!loss: 2.157;rec: -2.065;kl: -63.31;log_p_y_by_z: -1.548;log_p_z_by_y: -76.11;\n",
      "!!!!!loss: 1.908;rec: -1.817;kl: -63.19;log_p_y_by_z: -1.54;log_p_z_by_y: -74.45;\n",
      "!!!!!loss: 1.724;rec: -1.63;kl: -62.88;log_p_y_by_z: -1.56;log_p_z_by_y: -73.14;\n",
      "!!!!!loss: 1.617;rec: -1.532;kl: -62.85;log_p_y_by_z: -1.48;log_p_z_by_y: -71.93;\n",
      "!!!!!loss: 1.522;rec: -1.43;kl: -63.22;log_p_y_by_z: -1.553;log_p_z_by_y: -70.64;\n",
      "!!!!!loss: 1.456;rec: -1.374;kl: -62.67;log_p_y_by_z: -1.449;log_p_z_by_y: -70.43;\n",
      "!!!!!loss: 1.37;rec: -1.285;kl: -63.21;log_p_y_by_z: -1.479;log_p_z_by_y: -69.48;\n",
      "!!!!!loss: 1.377;rec: -1.285;kl: -62.97;log_p_y_by_z: -1.555;log_p_z_by_y: -69.52;\n",
      "!!!!!loss: 1.271;rec: -1.189;kl: -63.39;log_p_y_by_z: -1.457;log_p_z_by_y: -69.19;\n",
      "!!!!!loss: 1.285;rec: -1.19;kl: -63.58;log_p_y_by_z: -1.58;log_p_z_by_y: -68.79;\n",
      "!!!!!loss: 1.263;rec: -1.176;kl: -63.41;log_p_y_by_z: -1.513;log_p_z_by_y: -68.7;\n",
      "!!!!!loss: 1.233;rec: -1.141;kl: -63.71;log_p_y_by_z: -1.559;log_p_z_by_y: -68.78;\n",
      "!!!!!loss: 1.191;rec: -1.109;kl: -63.8;log_p_y_by_z: -1.457;log_p_z_by_y: -68.84;\n",
      "!!!!!loss: 1.232;rec: -1.142;kl: -64.06;log_p_y_by_z: -1.545;log_p_z_by_y: -68.5;\n",
      "!!!!!loss: 1.17;rec: -1.087;kl: -64.28;log_p_y_by_z: -1.474;log_p_z_by_y: -68.33;\n",
      "!!!!!loss: 1.177;rec: -1.084;kl: -64.42;log_p_y_by_z: -1.582;log_p_z_by_y: -68.33;\n",
      "!!!!!loss: 1.116;rec: -1.032;kl: -63.78;log_p_y_by_z: -1.477;log_p_z_by_y: -69.39;\n",
      "!!!!!loss: 1.143;rec: -1.059;kl: -64.77;log_p_y_by_z: -1.49;log_p_z_by_y: -68.7;\n",
      "!!!!!loss: 1.088;rec: -1.001;kl: -65.39;log_p_y_by_z: -1.527;log_p_z_by_y: -68.2;\n",
      "!!!!!loss: 1.09;rec: -1.001;kl: -64.99;log_p_y_by_z: -1.541;log_p_z_by_y: -68.44;\n",
      "!!!!!loss: 1.064;rec: -0.9867;kl: -64.84;log_p_y_by_z: -1.426;log_p_z_by_y: -68.73;\n",
      "!!!!!loss: 1.062;rec: -0.9778;kl: -64.52;log_p_y_by_z: -1.482;log_p_z_by_y: -69.34;\n",
      "!!!!!loss: 1.058;rec: -0.9774;kl: -65.53;log_p_y_by_z: -1.463;log_p_z_by_y: -68.58;\n",
      "!!!!!loss: 1.053;rec: -0.9759;kl: -65.0;log_p_y_by_z: -1.423;log_p_z_by_y: -69.18;\n",
      "!!!!!loss: 1.044;rec: -0.9638;kl: -65.09;log_p_y_by_z: -1.448;log_p_z_by_y: -68.98;\n",
      "!!!!!loss: 1.046;rec: -0.9629;kl: -64.7;log_p_y_by_z: -1.482;log_p_z_by_y: -69.1;\n",
      "!!!!!loss: 1.025;rec: -0.9423;kl: -64.66;log_p_y_by_z: -1.473;log_p_z_by_y: -69.46;\n",
      "!!!!!loss: 1.015;rec: -0.9268;kl: -65.15;log_p_y_by_z: -1.532;log_p_z_by_y: -69.3;\n",
      "!!!!!loss: 1.002;rec: -0.9234;kl: -65.47;log_p_y_by_z: -1.438;log_p_z_by_y: -68.97;\n",
      "!!!!!loss: 1.001;rec: -0.9213;kl: -65.59;log_p_y_by_z: -1.452;log_p_z_by_y: -69.37;\n",
      "!!!!!loss: 0.9841;rec: -0.9079;kl: -65.04;log_p_y_by_z: -1.412;log_p_z_by_y: -70.21;\n",
      "!!!!!loss: 0.9972;rec: -0.9196;kl: -65.58;log_p_y_by_z: -1.432;log_p_z_by_y: -70.04;\n",
      "!!!!!loss: 0.9922;rec: -0.9047;kl: -65.35;log_p_y_by_z: -1.529;log_p_z_by_y: -70.27;\n",
      "!!!!!loss: 0.9723;rec: -0.8956;kl: -65.35;log_p_y_by_z: -1.421;log_p_z_by_y: -70.77;\n",
      "!!!!!loss: 0.9592;rec: -0.8859;kl: -65.59;log_p_y_by_z: -1.388;log_p_z_by_y: -70.82;\n",
      "!!!!!loss: 0.9683;rec: -0.8856;kl: -65.9;log_p_y_by_z: -1.486;log_p_z_by_y: -70.49;\n",
      "!!!!!loss: 0.9649;rec: -0.8857;kl: -66.53;log_p_y_by_z: -1.457;log_p_z_by_y: -70.29;\n",
      "!!!!!loss: 0.9643;rec: -0.8776;kl: -66.24;log_p_y_by_z: -1.529;log_p_z_by_y: -71.42;\n",
      "!!!!!loss: 0.9527;rec: -0.8661;kl: -66.13;log_p_y_by_z: -1.526;log_p_z_by_y: -71.97;\n",
      "!!!!!loss: 0.9793;rec: -0.8873;kl: -66.4;log_p_y_by_z: -1.584;log_p_z_by_y: -72.12;\n",
      "!!!!!loss: 0.9395;rec: -0.8519;kl: -66.82;log_p_y_by_z: -1.545;log_p_z_by_y: -72.16;\n",
      "!!!!!loss: 0.9615;rec: -0.8708;kl: -66.52;log_p_y_by_z: -1.572;log_p_z_by_y: -72.75;\n",
      "!!!!!loss: 0.9222;rec: -0.8447;kl: -67.34;log_p_y_by_z: -1.449;log_p_z_by_y: -72.11;\n",
      "Epoch 2 :\n",
      "!!!!!loss: 0.9248;rec: -0.8427;kl: -67.18;log_p_y_by_z: -1.493;log_p_z_by_y: -72.59;\n",
      "!!!!!loss: 0.9267;rec: -0.8445;kl: -67.95;log_p_y_by_z: -1.501;log_p_z_by_y: -72.38;\n",
      "!!!!!loss: 0.9385;rec: -0.8547;kl: -67.42;log_p_y_by_z: -1.512;log_p_z_by_y: -73.24;\n",
      "!!!!!loss: 0.8971;rec: -0.8232;kl: -68.49;log_p_y_by_z: -1.424;log_p_z_by_y: -72.65;\n",
      "!!!!!loss: 0.9587;rec: -0.8719;kl: -66.75;log_p_y_by_z: -1.536;log_p_z_by_y: -74.79;\n",
      "!!!!!loss: 0.9044;rec: -0.8285;kl: -68.0;log_p_y_by_z: -1.439;log_p_z_by_y: -74.13;\n",
      "!!!!!loss: 0.9123;rec: -0.832;kl: -68.82;log_p_y_by_z: -1.491;log_p_z_by_y: -74.12;\n",
      "!!!!!loss: 0.9108;rec: -0.8289;kl: -68.85;log_p_y_by_z: -1.508;log_p_z_by_y: -74.75;\n",
      "!!!!!loss: 0.9369;rec: -0.856;kl: -69.37;log_p_y_by_z: -1.503;log_p_z_by_y: -75.27;\n",
      "!!!!!loss: 0.8983;rec: -0.8224;kl: -69.18;log_p_y_by_z: -1.451;log_p_z_by_y: -76.25;\n",
      "!!!!!loss: 0.8825;rec: -0.8063;kl: -68.84;log_p_y_by_z: -1.45;log_p_z_by_y: -76.89;\n",
      "!!!!!loss: 0.9056;rec: -0.8193;kl: -69.49;log_p_y_by_z: -1.558;log_p_z_by_y: -75.18;\n",
      "!!!!!loss: 0.9022;rec: -0.8186;kl: -69.2;log_p_y_by_z: -1.527;log_p_z_by_y: -75.51;\n",
      "!!!!!loss: 0.897;rec: -0.8109;kl: -69.25;log_p_y_by_z: -1.553;log_p_z_by_y: -75.96;\n",
      "!!!!!loss: 0.8767;rec: -0.7959;kl: -69.05;log_p_y_by_z: -1.499;log_p_z_by_y: -76.9;\n",
      "!!!!!loss: 0.8663;rec: -0.7984;kl: -69.64;log_p_y_by_z: -1.376;log_p_z_by_y: -76.8;\n",
      "!!!!!loss: 0.8712;rec: -0.7887;kl: -69.51;log_p_y_by_z: -1.52;log_p_z_by_y: -76.76;\n",
      "!!!!!loss: 0.8658;rec: -0.7859;kl: -69.33;log_p_y_by_z: -1.492;log_p_z_by_y: -77.83;\n",
      "!!!!!loss: 0.8912;rec: -0.8146;kl: -70.73;log_p_y_by_z: -1.473;log_p_z_by_y: -76.97;\n",
      "!!!!!loss: 0.8423;rec: -0.7702;kl: -70.6;log_p_y_by_z: -1.427;log_p_z_by_y: -77.8;\n",
      "!!!!!loss: 0.8951;rec: -0.8185;kl: -70.57;log_p_y_by_z: -1.472;log_p_z_by_y: -78.5;\n",
      "!!!!!loss: 0.902;rec: -0.824;kl: -71.26;log_p_y_by_z: -1.493;log_p_z_by_y: -79.12;\n",
      "!!!!!loss: 0.8795;rec: -0.8072;kl: -71.68;log_p_y_by_z: -1.439;log_p_z_by_y: -80.36;\n",
      "!!!!!loss: 0.8674;rec: -0.7887;kl: -72.36;log_p_y_by_z: -1.511;log_p_z_by_y: -78.51;\n",
      "!!!!!loss: 0.8881;rec: -0.8055;kl: -71.63;log_p_y_by_z: -1.542;log_p_z_by_y: -79.21;\n",
      "!!!!!loss: 0.8549;rec: -0.7803;kl: -70.89;log_p_y_by_z: -1.455;log_p_z_by_y: -80.42;\n",
      "!!!!!loss: 0.8447;rec: -0.7681;kl: -70.73;log_p_y_by_z: -1.474;log_p_z_by_y: -80.41;\n",
      "!!!!!loss: 0.8665;rec: -0.7928;kl: -71.27;log_p_y_by_z: -1.449;log_p_z_by_y: -79.96;\n",
      "!!!!!loss: 0.8456;rec: -0.7725;kl: -71.41;log_p_y_by_z: -1.445;log_p_z_by_y: -79.87;\n",
      "!!!!!loss: 0.8602;rec: -0.7836;kl: -70.82;log_p_y_by_z: -1.475;log_p_z_by_y: -81.47;\n",
      "!!!!!loss: 0.866;rec: -0.7823;kl: -72.02;log_p_y_by_z: -1.557;log_p_z_by_y: -80.21;\n",
      "!!!!!loss: 0.8689;rec: -0.7851;kl: -72.73;log_p_y_by_z: -1.565;log_p_z_by_y: -80.22;\n",
      "!!!!!loss: 0.846;rec: -0.7728;kl: -73.22;log_p_y_by_z: -1.464;log_p_z_by_y: -80.94;\n",
      "!!!!!loss: 0.8385;rec: -0.771;kl: -72.61;log_p_y_by_z: -1.4;log_p_z_by_y: -83.92;\n",
      "!!!!!loss: 0.8445;rec: -0.7817;kl: -73.97;log_p_y_by_z: -1.368;log_p_z_by_y: -83.2;\n",
      "!!!!!loss: 0.8754;rec: -0.7917;kl: -72.55;log_p_y_by_z: -1.563;log_p_z_by_y: -85.33;\n",
      "!!!!!loss: 0.8668;rec: -0.7873;kl: -73.93;log_p_y_by_z: -1.534;log_p_z_by_y: -82.67;\n",
      "!!!!!loss: 0.8682;rec: -0.7816;kl: -74.28;log_p_y_by_z: -1.609;log_p_z_by_y: -81.91;\n",
      "!!!!!loss: 0.839;rec: -0.7607;kl: -74.33;log_p_y_by_z: -1.525;log_p_z_by_y: -84.42;\n",
      "!!!!!loss: 0.8086;rec: -0.7347;kl: -75.11;log_p_y_by_z: -1.49;log_p_z_by_y: -84.42;\n",
      "!!!!!loss: 0.8721;rec: -0.7882;kl: -74.58;log_p_y_by_z: -1.585;log_p_z_by_y: -84.82;\n",
      "!!!!!loss: 0.846;rec: -0.7659;kl: -74.33;log_p_y_by_z: -1.545;log_p_z_by_y: -84.04;\n",
      "!!!!!loss: 0.8322;rec: -0.7643;kl: -73.79;log_p_y_by_z: -1.417;log_p_z_by_y: -83.76;\n",
      "!!!!!loss: 0.85;rec: -0.7716;kl: -73.3;log_p_y_by_z: -1.517;log_p_z_by_y: -82.92;\n",
      "!!!!!loss: 0.8348;rec: -0.7618;kl: -73.35;log_p_y_by_z: -1.464;log_p_z_by_y: -83.98;\n",
      "!!!!!loss: 0.8086;rec: -0.7388;kl: -74.46;log_p_y_by_z: -1.443;log_p_z_by_y: -85.81;\n",
      "!!!!!loss: 0.8283;rec: -0.7564;kl: -74.88;log_p_y_by_z: -1.468;log_p_z_by_y: -87.05;\n",
      "!!!!!loss: 0.8226;rec: -0.7495;kl: -74.78;log_p_y_by_z: -1.479;log_p_z_by_y: -87.02;\n",
      "!!!!!loss: 0.8093;rec: -0.7472;kl: -74.23;log_p_y_by_z: -1.363;log_p_z_by_y: -88.05;\n",
      "!!!!!loss: 0.8158;rec: -0.7376;kl: -74.63;log_p_y_by_z: -1.527;log_p_z_by_y: -85.08;\n",
      "!!!!!loss: 0.8076;rec: -0.7397;kl: -74.48;log_p_y_by_z: -1.423;log_p_z_by_y: -83.48;\n",
      "!!!!!loss: 0.8504;rec: -0.7764;kl: -74.73;log_p_y_by_z: -1.488;log_p_z_by_y: -85.04;\n",
      "!!!!!loss: 0.85;rec: -0.7746;kl: -75.54;log_p_y_by_z: -1.509;log_p_z_by_y: -84.97;\n",
      "!!!!!loss: 0.8106;rec: -0.7404;kl: -75.51;log_p_y_by_z: -1.457;log_p_z_by_y: -84.92;\n",
      "!!!!!loss: 0.8029;rec: -0.7337;kl: -76.0;log_p_y_by_z: -1.452;log_p_z_by_y: -84.21;\n",
      "!!!!!loss: 0.8101;rec: -0.7348;kl: -74.98;log_p_y_by_z: -1.504;log_p_z_by_y: -87.34;\n",
      "!!!!!loss: 0.8352;rec: -0.7523;kl: -75.79;log_p_y_by_z: -1.587;log_p_z_by_y: -86.38;\n",
      "!!!!!loss: 0.8031;rec: -0.7359;kl: -76.25;log_p_y_by_z: -1.435;log_p_z_by_y: -86.49;\n",
      "!!!!!loss: 0.8138;rec: -0.7506;kl: -76.87;log_p_y_by_z: -1.4;log_p_z_by_y: -87.78;\n",
      "!!!!!loss: 0.807;rec: -0.7368;kl: -77.77;log_p_y_by_z: -1.479;log_p_z_by_y: -88.04;\n",
      "!!!!!loss: 0.8232;rec: -0.7488;kl: -77.44;log_p_y_by_z: -1.518;log_p_z_by_y: -89.29;\n",
      "!!!!!loss: 0.8129;rec: -0.738;kl: -76.9;log_p_y_by_z: -1.518;log_p_z_by_y: -89.47;\n",
      "!!!!!loss: 0.7768;rec: -0.7097;kl: -78.33;log_p_y_by_z: -1.454;log_p_z_by_y: -87.75;\n",
      "!!!!!loss: 0.8036;rec: -0.7258;kl: -78.12;log_p_y_by_z: -1.559;log_p_z_by_y: -88.05;\n"
     ]
    },
    {
     "data": {
      "text/plain": [
       "<gentrl.gentrl.TrainStats at 0x7f5ca1f4be48>"
      ]
     },
     "execution_count": 6,
     "metadata": {},
     "output_type": "execute_result"
    }
   ],
   "source": [
    "model.train_as_vaelp(train_loader, 3, verbose_step=5, lr=1e-3)"
   ]
  },
  {
   "cell_type": "code",
   "execution_count": 8,
   "metadata": {},
   "outputs": [],
   "source": [
    "! mkdir -p saved_gentrlCNN"
   ]
  },
  {
   "cell_type": "code",
   "execution_count": 9,
   "metadata": {},
   "outputs": [],
   "source": [
    "model.save('./saved_gentrlCNN/')"
   ]
  },
  {
   "cell_type": "code",
   "execution_count": null,
   "metadata": {},
   "outputs": [],
   "source": [
    "# ! ls -la ./saved_gentrl/"
   ]
  },
  {
   "cell_type": "code",
   "execution_count": null,
   "metadata": {},
   "outputs": [],
   "source": []
  }
 ],
 "metadata": {
  "kernelspec": {
   "display_name": "Python 3",
   "language": "python",
   "name": "python3"
  },
  "language_info": {
   "codemirror_mode": {
    "name": "ipython",
    "version": 3
   },
   "file_extension": ".py",
   "mimetype": "text/x-python",
   "name": "python",
   "nbconvert_exporter": "python",
   "pygments_lexer": "ipython3",
   "version": "3.6.5"
  }
 },
 "nbformat": 4,
 "nbformat_minor": 2
}
